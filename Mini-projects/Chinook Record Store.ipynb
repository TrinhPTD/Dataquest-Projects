{
 "cells": [
  {
   "cell_type": "markdown",
   "metadata": {},
   "source": [
    "## Data Description"
   ]
  },
  {
   "cell_type": "code",
   "execution_count": 1,
   "metadata": {
    "collapsed": false
   },
   "outputs": [
    {
     "data": {
      "text/plain": [
       "'Connected: None@chinook.db'"
      ]
     },
     "execution_count": 1,
     "metadata": {},
     "output_type": "execute_result"
    }
   ],
   "source": [
    "%%capture\n",
    "%load_ext sql\n",
    "%sql sqlite:///chinook.db"
   ]
  },
  {
   "cell_type": "code",
   "execution_count": 2,
   "metadata": {
    "collapsed": false
   },
   "outputs": [
    {
     "name": "stdout",
     "output_type": "stream",
     "text": [
      "Done.\n"
     ]
    },
    {
     "data": {
      "text/html": [
       "<table>\n",
       "    <tr>\n",
       "        <th>name</th>\n",
       "        <th>type</th>\n",
       "    </tr>\n",
       "    <tr>\n",
       "        <td>album</td>\n",
       "        <td>table</td>\n",
       "    </tr>\n",
       "    <tr>\n",
       "        <td>artist</td>\n",
       "        <td>table</td>\n",
       "    </tr>\n",
       "    <tr>\n",
       "        <td>customer</td>\n",
       "        <td>table</td>\n",
       "    </tr>\n",
       "    <tr>\n",
       "        <td>employee</td>\n",
       "        <td>table</td>\n",
       "    </tr>\n",
       "    <tr>\n",
       "        <td>genre</td>\n",
       "        <td>table</td>\n",
       "    </tr>\n",
       "    <tr>\n",
       "        <td>invoice</td>\n",
       "        <td>table</td>\n",
       "    </tr>\n",
       "    <tr>\n",
       "        <td>invoice_line</td>\n",
       "        <td>table</td>\n",
       "    </tr>\n",
       "    <tr>\n",
       "        <td>media_type</td>\n",
       "        <td>table</td>\n",
       "    </tr>\n",
       "    <tr>\n",
       "        <td>playlist</td>\n",
       "        <td>table</td>\n",
       "    </tr>\n",
       "    <tr>\n",
       "        <td>playlist_track</td>\n",
       "        <td>table</td>\n",
       "    </tr>\n",
       "    <tr>\n",
       "        <td>track</td>\n",
       "        <td>table</td>\n",
       "    </tr>\n",
       "</table>"
      ],
      "text/plain": [
       "[('album', 'table'),\n",
       " ('artist', 'table'),\n",
       " ('customer', 'table'),\n",
       " ('employee', 'table'),\n",
       " ('genre', 'table'),\n",
       " ('invoice', 'table'),\n",
       " ('invoice_line', 'table'),\n",
       " ('media_type', 'table'),\n",
       " ('playlist', 'table'),\n",
       " ('playlist_track', 'table'),\n",
       " ('track', 'table')]"
      ]
     },
     "execution_count": 2,
     "metadata": {},
     "output_type": "execute_result"
    }
   ],
   "source": [
    "%%sql\n",
    "SELECT\n",
    "    name,\n",
    "    type\n",
    "FROM sqlite_master\n",
    "WHERE type IN (\"table\",\"view\");"
   ]
  },
  {
   "cell_type": "code",
   "execution_count": 12,
   "metadata": {
    "collapsed": false
   },
   "outputs": [
    {
     "name": "stdout",
     "output_type": "stream",
     "text": [
      "Done.\n"
     ]
    },
    {
     "data": {
      "text/html": [
       "<table>\n",
       "    <tr>\n",
       "        <th>genre_id</th>\n",
       "        <th>name</th>\n",
       "    </tr>\n",
       "    <tr>\n",
       "        <td>1</td>\n",
       "        <td>Rock</td>\n",
       "    </tr>\n",
       "    <tr>\n",
       "        <td>2</td>\n",
       "        <td>Jazz</td>\n",
       "    </tr>\n",
       "    <tr>\n",
       "        <td>3</td>\n",
       "        <td>Metal</td>\n",
       "    </tr>\n",
       "    <tr>\n",
       "        <td>4</td>\n",
       "        <td>Alternative &amp; Punk</td>\n",
       "    </tr>\n",
       "    <tr>\n",
       "        <td>5</td>\n",
       "        <td>Rock And Roll</td>\n",
       "    </tr>\n",
       "    <tr>\n",
       "        <td>6</td>\n",
       "        <td>Blues</td>\n",
       "    </tr>\n",
       "    <tr>\n",
       "        <td>7</td>\n",
       "        <td>Latin</td>\n",
       "    </tr>\n",
       "    <tr>\n",
       "        <td>8</td>\n",
       "        <td>Reggae</td>\n",
       "    </tr>\n",
       "    <tr>\n",
       "        <td>9</td>\n",
       "        <td>Pop</td>\n",
       "    </tr>\n",
       "    <tr>\n",
       "        <td>10</td>\n",
       "        <td>Soundtrack</td>\n",
       "    </tr>\n",
       "    <tr>\n",
       "        <td>11</td>\n",
       "        <td>Bossa Nova</td>\n",
       "    </tr>\n",
       "    <tr>\n",
       "        <td>12</td>\n",
       "        <td>Easy Listening</td>\n",
       "    </tr>\n",
       "    <tr>\n",
       "        <td>13</td>\n",
       "        <td>Heavy Metal</td>\n",
       "    </tr>\n",
       "    <tr>\n",
       "        <td>14</td>\n",
       "        <td>R&amp;B/Soul</td>\n",
       "    </tr>\n",
       "    <tr>\n",
       "        <td>15</td>\n",
       "        <td>Electronica/Dance</td>\n",
       "    </tr>\n",
       "    <tr>\n",
       "        <td>16</td>\n",
       "        <td>World</td>\n",
       "    </tr>\n",
       "    <tr>\n",
       "        <td>17</td>\n",
       "        <td>Hip Hop/Rap</td>\n",
       "    </tr>\n",
       "    <tr>\n",
       "        <td>18</td>\n",
       "        <td>Science Fiction</td>\n",
       "    </tr>\n",
       "    <tr>\n",
       "        <td>19</td>\n",
       "        <td>TV Shows</td>\n",
       "    </tr>\n",
       "    <tr>\n",
       "        <td>20</td>\n",
       "        <td>Sci Fi &amp; Fantasy</td>\n",
       "    </tr>\n",
       "    <tr>\n",
       "        <td>21</td>\n",
       "        <td>Drama</td>\n",
       "    </tr>\n",
       "    <tr>\n",
       "        <td>22</td>\n",
       "        <td>Comedy</td>\n",
       "    </tr>\n",
       "    <tr>\n",
       "        <td>23</td>\n",
       "        <td>Alternative</td>\n",
       "    </tr>\n",
       "    <tr>\n",
       "        <td>24</td>\n",
       "        <td>Classical</td>\n",
       "    </tr>\n",
       "    <tr>\n",
       "        <td>25</td>\n",
       "        <td>Opera</td>\n",
       "    </tr>\n",
       "</table>"
      ],
      "text/plain": [
       "[(1, 'Rock'),\n",
       " (2, 'Jazz'),\n",
       " (3, 'Metal'),\n",
       " (4, 'Alternative & Punk'),\n",
       " (5, 'Rock And Roll'),\n",
       " (6, 'Blues'),\n",
       " (7, 'Latin'),\n",
       " (8, 'Reggae'),\n",
       " (9, 'Pop'),\n",
       " (10, 'Soundtrack'),\n",
       " (11, 'Bossa Nova'),\n",
       " (12, 'Easy Listening'),\n",
       " (13, 'Heavy Metal'),\n",
       " (14, 'R&B/Soul'),\n",
       " (15, 'Electronica/Dance'),\n",
       " (16, 'World'),\n",
       " (17, 'Hip Hop/Rap'),\n",
       " (18, 'Science Fiction'),\n",
       " (19, 'TV Shows'),\n",
       " (20, 'Sci Fi & Fantasy'),\n",
       " (21, 'Drama'),\n",
       " (22, 'Comedy'),\n",
       " (23, 'Alternative'),\n",
       " (24, 'Classical'),\n",
       " (25, 'Opera')]"
      ]
     },
     "execution_count": 12,
     "metadata": {},
     "output_type": "execute_result"
    }
   ],
   "source": [
    "%%sql\n",
    "Select *\n",
    "from genre\n",
    "group by genre_id;"
   ]
  },
  {
   "cell_type": "code",
   "execution_count": 16,
   "metadata": {
    "collapsed": false
   },
   "outputs": [
    {
     "name": "stdout",
     "output_type": "stream",
     "text": [
      "Done.\n"
     ]
    },
    {
     "data": {
      "text/html": [
       "<table>\n",
       "    <tr>\n",
       "        <th>invoice_line_id</th>\n",
       "        <th>invoice_id</th>\n",
       "        <th>track_id</th>\n",
       "        <th>unit_price</th>\n",
       "        <th>quantity</th>\n",
       "    </tr>\n",
       "    <tr>\n",
       "        <td>1</td>\n",
       "        <td>1</td>\n",
       "        <td>1158</td>\n",
       "        <td>0.99</td>\n",
       "        <td>1</td>\n",
       "    </tr>\n",
       "    <tr>\n",
       "        <td>2</td>\n",
       "        <td>1</td>\n",
       "        <td>1159</td>\n",
       "        <td>0.99</td>\n",
       "        <td>1</td>\n",
       "    </tr>\n",
       "</table>"
      ],
      "text/plain": [
       "[(1, 1, 1158, 0.99, 1), (2, 1, 1159, 0.99, 1)]"
      ]
     },
     "execution_count": 16,
     "metadata": {},
     "output_type": "execute_result"
    }
   ],
   "source": [
    "%%sql\n",
    "select *\n",
    "from invoice_line\n",
    "limit 2;"
   ]
  },
  {
   "cell_type": "code",
   "execution_count": 149,
   "metadata": {
    "collapsed": false
   },
   "outputs": [
    {
     "name": "stdout",
     "output_type": "stream",
     "text": [
      "Done.\n"
     ]
    },
    {
     "data": {
      "text/html": [
       "<table>\n",
       "    <tr>\n",
       "        <th>invoice_id</th>\n",
       "        <th>customer_id</th>\n",
       "        <th>invoice_date</th>\n",
       "        <th>billing_address</th>\n",
       "        <th>billing_city</th>\n",
       "        <th>billing_state</th>\n",
       "        <th>billing_country</th>\n",
       "        <th>billing_postal_code</th>\n",
       "        <th>total</th>\n",
       "    </tr>\n",
       "    <tr>\n",
       "        <td>1</td>\n",
       "        <td>18</td>\n",
       "        <td>2017-01-03 00:00:00</td>\n",
       "        <td>627 Broadway</td>\n",
       "        <td>New York</td>\n",
       "        <td>NY</td>\n",
       "        <td>USA</td>\n",
       "        <td>10012-2612</td>\n",
       "        <td>15.84</td>\n",
       "    </tr>\n",
       "    <tr>\n",
       "        <td>2</td>\n",
       "        <td>30</td>\n",
       "        <td>2017-01-03 00:00:00</td>\n",
       "        <td>230 Elgin Street</td>\n",
       "        <td>Ottawa</td>\n",
       "        <td>ON</td>\n",
       "        <td>Canada</td>\n",
       "        <td>K2P 1L7</td>\n",
       "        <td>9.9</td>\n",
       "    </tr>\n",
       "</table>"
      ],
      "text/plain": [
       "[(1, 18, '2017-01-03 00:00:00', '627 Broadway', 'New York', 'NY', 'USA', '10012-2612', 15.84),\n",
       " (2, 30, '2017-01-03 00:00:00', '230 Elgin Street', 'Ottawa', 'ON', 'Canada', 'K2P 1L7', 9.9)]"
      ]
     },
     "execution_count": 149,
     "metadata": {},
     "output_type": "execute_result"
    }
   ],
   "source": [
    "%%sql\n",
    "select *\n",
    "from invoice\n",
    "limit 2;"
   ]
  },
  {
   "cell_type": "markdown",
   "metadata": {},
   "source": [
    "## New Albums Selection"
   ]
  },
  {
   "cell_type": "markdown",
   "metadata": {},
   "source": [
    "The Chinook record store has just signed a deal with a new record label, and you've been tasked with selecting the first three albums that will be added to the store, from a list of four. All four albums are by artists that don't have any tracks in the store right now - we have the artist names, and the genre of music they produce."
   ]
  },
  {
   "cell_type": "code",
   "execution_count": 45,
   "metadata": {
    "collapsed": false
   },
   "outputs": [
    {
     "name": "stdout",
     "output_type": "stream",
     "text": [
      "Done.\n"
     ]
    },
    {
     "data": {
      "text/html": [
       "<table>\n",
       "    <tr>\n",
       "        <th>genre</th>\n",
       "        <th>Number of tracks sold</th>\n",
       "        <th>Percentage_sold</th>\n",
       "    </tr>\n",
       "    <tr>\n",
       "        <td>Rock</td>\n",
       "        <td>561</td>\n",
       "        <td>0.5337773549000951</td>\n",
       "    </tr>\n",
       "    <tr>\n",
       "        <td>Alternative &amp; Punk</td>\n",
       "        <td>130</td>\n",
       "        <td>0.12369172216936251</td>\n",
       "    </tr>\n",
       "    <tr>\n",
       "        <td>Metal</td>\n",
       "        <td>124</td>\n",
       "        <td>0.11798287345385347</td>\n",
       "    </tr>\n",
       "    <tr>\n",
       "        <td>R&amp;B/Soul</td>\n",
       "        <td>53</td>\n",
       "        <td>0.05042816365366318</td>\n",
       "    </tr>\n",
       "    <tr>\n",
       "        <td>Blues</td>\n",
       "        <td>36</td>\n",
       "        <td>0.03425309229305423</td>\n",
       "    </tr>\n",
       "    <tr>\n",
       "        <td>Alternative</td>\n",
       "        <td>35</td>\n",
       "        <td>0.03330161750713606</td>\n",
       "    </tr>\n",
       "    <tr>\n",
       "        <td>Latin</td>\n",
       "        <td>22</td>\n",
       "        <td>0.02093244529019981</td>\n",
       "    </tr>\n",
       "    <tr>\n",
       "        <td>Pop</td>\n",
       "        <td>22</td>\n",
       "        <td>0.02093244529019981</td>\n",
       "    </tr>\n",
       "    <tr>\n",
       "        <td>Hip Hop/Rap</td>\n",
       "        <td>20</td>\n",
       "        <td>0.019029495718363463</td>\n",
       "    </tr>\n",
       "    <tr>\n",
       "        <td>Jazz</td>\n",
       "        <td>14</td>\n",
       "        <td>0.013320647002854425</td>\n",
       "    </tr>\n",
       "    <tr>\n",
       "        <td>Easy Listening</td>\n",
       "        <td>13</td>\n",
       "        <td>0.012369172216936251</td>\n",
       "    </tr>\n",
       "    <tr>\n",
       "        <td>Reggae</td>\n",
       "        <td>6</td>\n",
       "        <td>0.005708848715509039</td>\n",
       "    </tr>\n",
       "    <tr>\n",
       "        <td>Electronica/Dance</td>\n",
       "        <td>5</td>\n",
       "        <td>0.004757373929590866</td>\n",
       "    </tr>\n",
       "    <tr>\n",
       "        <td>Classical</td>\n",
       "        <td>4</td>\n",
       "        <td>0.003805899143672693</td>\n",
       "    </tr>\n",
       "    <tr>\n",
       "        <td>Heavy Metal</td>\n",
       "        <td>3</td>\n",
       "        <td>0.0028544243577545195</td>\n",
       "    </tr>\n",
       "    <tr>\n",
       "        <td>Soundtrack</td>\n",
       "        <td>2</td>\n",
       "        <td>0.0019029495718363464</td>\n",
       "    </tr>\n",
       "    <tr>\n",
       "        <td>TV Shows</td>\n",
       "        <td>1</td>\n",
       "        <td>0.0009514747859181732</td>\n",
       "    </tr>\n",
       "</table>"
      ],
      "text/plain": [
       "[('Rock', 561, 0.5337773549000951),\n",
       " ('Alternative & Punk', 130, 0.12369172216936251),\n",
       " ('Metal', 124, 0.11798287345385347),\n",
       " ('R&B/Soul', 53, 0.05042816365366318),\n",
       " ('Blues', 36, 0.03425309229305423),\n",
       " ('Alternative', 35, 0.03330161750713606),\n",
       " ('Latin', 22, 0.02093244529019981),\n",
       " ('Pop', 22, 0.02093244529019981),\n",
       " ('Hip Hop/Rap', 20, 0.019029495718363463),\n",
       " ('Jazz', 14, 0.013320647002854425),\n",
       " ('Easy Listening', 13, 0.012369172216936251),\n",
       " ('Reggae', 6, 0.005708848715509039),\n",
       " ('Electronica/Dance', 5, 0.004757373929590866),\n",
       " ('Classical', 4, 0.003805899143672693),\n",
       " ('Heavy Metal', 3, 0.0028544243577545195),\n",
       " ('Soundtrack', 2, 0.0019029495718363464),\n",
       " ('TV Shows', 1, 0.0009514747859181732)]"
      ]
     },
     "execution_count": 45,
     "metadata": {},
     "output_type": "execute_result"
    }
   ],
   "source": [
    "%%sql\n",
    "\n",
    "WITH usa_track_sold AS (\n",
    "    SELECT il.* FROM invoice_line il\n",
    "    INNER JOIN invoice i on il.invoice_id = i.invoice_id\n",
    "    WHERE i.billing_country = \"USA\")\n",
    "SELECT \n",
    "    g.name AS genre, count(uts.invoice_line_id) as \"Number of tracks sold\", cast(count(uts.invoice_line_id)as float)/(select count(*) from usa_track_sold) as \"Percentage_sold\"\n",
    "    from usa_track_sold uts inner join track t on uts.track_id = t.track_id\n",
    "    inner join genre g on t.genre_id = g.genre_id\n",
    "    group by g.genre_id\n",
    "    order by 2 desc;"
   ]
  },
  {
   "cell_type": "markdown",
   "metadata": {},
   "source": [
    "Accoridng to above analysis, we should purchase albums from 3 artists as follow:\n",
    "- Red Tone(Punk)\n",
    "- Slim Jim Bites(Blues)\n",
    "- Meteor and the Girls(Pop)\n",
    "\n",
    "However, those genres only account 17% of sales. Chinook should invest more on Rock genre, which makes up 53% of sales in the store."
   ]
  },
  {
   "cell_type": "markdown",
   "metadata": {},
   "source": [
    "## Employee performance"
   ]
  },
  {
   "cell_type": "markdown",
   "metadata": {},
   "source": [
    "Each customer for the Chinook store gets assigned to a sales support agent within the company when they first make a purchase. You have been asked to analyze the purchases of customers belonging to each employee to see if any sales support agent is performing either better or worse than the others."
   ]
  },
  {
   "cell_type": "code",
   "execution_count": 51,
   "metadata": {
    "collapsed": false
   },
   "outputs": [
    {
     "name": "stdout",
     "output_type": "stream",
     "text": [
      "Done.\n"
     ]
    },
    {
     "data": {
      "text/html": [
       "<table>\n",
       "    <tr>\n",
       "        <th>customer_id</th>\n",
       "        <th>first_name</th>\n",
       "        <th>last_name</th>\n",
       "        <th>company</th>\n",
       "        <th>address</th>\n",
       "        <th>city</th>\n",
       "        <th>state</th>\n",
       "        <th>country</th>\n",
       "        <th>postal_code</th>\n",
       "        <th>phone</th>\n",
       "        <th>fax</th>\n",
       "        <th>email</th>\n",
       "        <th>support_rep_id</th>\n",
       "    </tr>\n",
       "    <tr>\n",
       "        <td>1</td>\n",
       "        <td>Luís</td>\n",
       "        <td>Gonçalves</td>\n",
       "        <td>Embraer - Empresa Brasileira de Aeronáutica S.A.</td>\n",
       "        <td>Av. Brigadeiro Faria Lima, 2170</td>\n",
       "        <td>São José dos Campos</td>\n",
       "        <td>SP</td>\n",
       "        <td>Brazil</td>\n",
       "        <td>12227-000</td>\n",
       "        <td>+55 (12) 3923-5555</td>\n",
       "        <td>+55 (12) 3923-5566</td>\n",
       "        <td>luisg@embraer.com.br</td>\n",
       "        <td>3</td>\n",
       "    </tr>\n",
       "    <tr>\n",
       "        <td>2</td>\n",
       "        <td>Leonie</td>\n",
       "        <td>Köhler</td>\n",
       "        <td>None</td>\n",
       "        <td>Theodor-Heuss-Straße 34</td>\n",
       "        <td>Stuttgart</td>\n",
       "        <td>None</td>\n",
       "        <td>Germany</td>\n",
       "        <td>70174</td>\n",
       "        <td>+49 0711 2842222</td>\n",
       "        <td>None</td>\n",
       "        <td>leonekohler@surfeu.de</td>\n",
       "        <td>5</td>\n",
       "    </tr>\n",
       "</table>"
      ],
      "text/plain": [
       "[(1, 'Luís', 'Gonçalves', 'Embraer - Empresa Brasileira de Aeronáutica S.A.', 'Av. Brigadeiro Faria Lima, 2170', 'São José dos Campos', 'SP', 'Brazil', '12227-000', '+55 (12) 3923-5555', '+55 (12) 3923-5566', 'luisg@embraer.com.br', 3),\n",
       " (2, 'Leonie', 'Köhler', None, 'Theodor-Heuss-Straße 34', 'Stuttgart', None, 'Germany', '70174', '+49 0711 2842222', None, 'leonekohler@surfeu.de', 5)]"
      ]
     },
     "execution_count": 51,
     "metadata": {},
     "output_type": "execute_result"
    }
   ],
   "source": [
    "%%sql\n",
    "select * from customer limit 2"
   ]
  },
  {
   "cell_type": "code",
   "execution_count": 81,
   "metadata": {
    "collapsed": false
   },
   "outputs": [
    {
     "name": "stdout",
     "output_type": "stream",
     "text": [
      "Done.\n"
     ]
    },
    {
     "data": {
      "text/html": [
       "<table>\n",
       "    <tr>\n",
       "        <th>employee_id</th>\n",
       "        <th>last_name</th>\n",
       "        <th>first_name</th>\n",
       "        <th>title</th>\n",
       "        <th>reports_to</th>\n",
       "        <th>birthdate</th>\n",
       "        <th>hire_date</th>\n",
       "        <th>address</th>\n",
       "        <th>city</th>\n",
       "        <th>state</th>\n",
       "        <th>country</th>\n",
       "        <th>postal_code</th>\n",
       "        <th>phone</th>\n",
       "        <th>fax</th>\n",
       "        <th>email</th>\n",
       "    </tr>\n",
       "    <tr>\n",
       "        <td>1</td>\n",
       "        <td>Adams</td>\n",
       "        <td>Andrew</td>\n",
       "        <td>General Manager</td>\n",
       "        <td>None</td>\n",
       "        <td>1962-02-18 00:00:00</td>\n",
       "        <td>2016-08-14 00:00:00</td>\n",
       "        <td>11120 Jasper Ave NW</td>\n",
       "        <td>Edmonton</td>\n",
       "        <td>AB</td>\n",
       "        <td>Canada</td>\n",
       "        <td>T5K 2N1</td>\n",
       "        <td>+1 (780) 428-9482</td>\n",
       "        <td>+1 (780) 428-3457</td>\n",
       "        <td>andrew@chinookcorp.com</td>\n",
       "    </tr>\n",
       "    <tr>\n",
       "        <td>2</td>\n",
       "        <td>Edwards</td>\n",
       "        <td>Nancy</td>\n",
       "        <td>Sales Manager</td>\n",
       "        <td>1</td>\n",
       "        <td>1958-12-08 00:00:00</td>\n",
       "        <td>2016-05-01 00:00:00</td>\n",
       "        <td>825 8 Ave SW</td>\n",
       "        <td>Calgary</td>\n",
       "        <td>AB</td>\n",
       "        <td>Canada</td>\n",
       "        <td>T2P 2T3</td>\n",
       "        <td>+1 (403) 262-3443</td>\n",
       "        <td>+1 (403) 262-3322</td>\n",
       "        <td>nancy@chinookcorp.com</td>\n",
       "    </tr>\n",
       "    <tr>\n",
       "        <td>3</td>\n",
       "        <td>Peacock</td>\n",
       "        <td>Jane</td>\n",
       "        <td>Sales Support Agent</td>\n",
       "        <td>2</td>\n",
       "        <td>1973-08-29 00:00:00</td>\n",
       "        <td>2017-04-01 00:00:00</td>\n",
       "        <td>1111 6 Ave SW</td>\n",
       "        <td>Calgary</td>\n",
       "        <td>AB</td>\n",
       "        <td>Canada</td>\n",
       "        <td>T2P 5M5</td>\n",
       "        <td>+1 (403) 262-3443</td>\n",
       "        <td>+1 (403) 262-6712</td>\n",
       "        <td>jane@chinookcorp.com</td>\n",
       "    </tr>\n",
       "    <tr>\n",
       "        <td>4</td>\n",
       "        <td>Park</td>\n",
       "        <td>Margaret</td>\n",
       "        <td>Sales Support Agent</td>\n",
       "        <td>2</td>\n",
       "        <td>1947-09-19 00:00:00</td>\n",
       "        <td>2017-05-03 00:00:00</td>\n",
       "        <td>683 10 Street SW</td>\n",
       "        <td>Calgary</td>\n",
       "        <td>AB</td>\n",
       "        <td>Canada</td>\n",
       "        <td>T2P 5G3</td>\n",
       "        <td>+1 (403) 263-4423</td>\n",
       "        <td>+1 (403) 263-4289</td>\n",
       "        <td>margaret@chinookcorp.com</td>\n",
       "    </tr>\n",
       "    <tr>\n",
       "        <td>5</td>\n",
       "        <td>Johnson</td>\n",
       "        <td>Steve</td>\n",
       "        <td>Sales Support Agent</td>\n",
       "        <td>2</td>\n",
       "        <td>1965-03-03 00:00:00</td>\n",
       "        <td>2017-10-17 00:00:00</td>\n",
       "        <td>7727B 41 Ave</td>\n",
       "        <td>Calgary</td>\n",
       "        <td>AB</td>\n",
       "        <td>Canada</td>\n",
       "        <td>T3B 1Y7</td>\n",
       "        <td>1 (780) 836-9987</td>\n",
       "        <td>1 (780) 836-9543</td>\n",
       "        <td>steve@chinookcorp.com</td>\n",
       "    </tr>\n",
       "    <tr>\n",
       "        <td>6</td>\n",
       "        <td>Mitchell</td>\n",
       "        <td>Michael</td>\n",
       "        <td>IT Manager</td>\n",
       "        <td>1</td>\n",
       "        <td>1973-07-01 00:00:00</td>\n",
       "        <td>2016-10-17 00:00:00</td>\n",
       "        <td>5827 Bowness Road NW</td>\n",
       "        <td>Calgary</td>\n",
       "        <td>AB</td>\n",
       "        <td>Canada</td>\n",
       "        <td>T3B 0C5</td>\n",
       "        <td>+1 (403) 246-9887</td>\n",
       "        <td>+1 (403) 246-9899</td>\n",
       "        <td>michael@chinookcorp.com</td>\n",
       "    </tr>\n",
       "    <tr>\n",
       "        <td>7</td>\n",
       "        <td>King</td>\n",
       "        <td>Robert</td>\n",
       "        <td>IT Staff</td>\n",
       "        <td>6</td>\n",
       "        <td>1970-05-29 00:00:00</td>\n",
       "        <td>2017-01-02 00:00:00</td>\n",
       "        <td>590 Columbia Boulevard West</td>\n",
       "        <td>Lethbridge</td>\n",
       "        <td>AB</td>\n",
       "        <td>Canada</td>\n",
       "        <td>T1K 5N8</td>\n",
       "        <td>+1 (403) 456-9986</td>\n",
       "        <td>+1 (403) 456-8485</td>\n",
       "        <td>robert@chinookcorp.com</td>\n",
       "    </tr>\n",
       "    <tr>\n",
       "        <td>8</td>\n",
       "        <td>Callahan</td>\n",
       "        <td>Laura</td>\n",
       "        <td>IT Staff</td>\n",
       "        <td>6</td>\n",
       "        <td>1968-01-09 00:00:00</td>\n",
       "        <td>2017-03-04 00:00:00</td>\n",
       "        <td>923 7 ST NW</td>\n",
       "        <td>Lethbridge</td>\n",
       "        <td>AB</td>\n",
       "        <td>Canada</td>\n",
       "        <td>T1H 1Y8</td>\n",
       "        <td>+1 (403) 467-3351</td>\n",
       "        <td>+1 (403) 467-8772</td>\n",
       "        <td>laura@chinookcorp.com</td>\n",
       "    </tr>\n",
       "</table>"
      ],
      "text/plain": [
       "[(1, 'Adams', 'Andrew', 'General Manager', None, '1962-02-18 00:00:00', '2016-08-14 00:00:00', '11120 Jasper Ave NW', 'Edmonton', 'AB', 'Canada', 'T5K 2N1', '+1 (780) 428-9482', '+1 (780) 428-3457', 'andrew@chinookcorp.com'),\n",
       " (2, 'Edwards', 'Nancy', 'Sales Manager', 1, '1958-12-08 00:00:00', '2016-05-01 00:00:00', '825 8 Ave SW', 'Calgary', 'AB', 'Canada', 'T2P 2T3', '+1 (403) 262-3443', '+1 (403) 262-3322', 'nancy@chinookcorp.com'),\n",
       " (3, 'Peacock', 'Jane', 'Sales Support Agent', 2, '1973-08-29 00:00:00', '2017-04-01 00:00:00', '1111 6 Ave SW', 'Calgary', 'AB', 'Canada', 'T2P 5M5', '+1 (403) 262-3443', '+1 (403) 262-6712', 'jane@chinookcorp.com'),\n",
       " (4, 'Park', 'Margaret', 'Sales Support Agent', 2, '1947-09-19 00:00:00', '2017-05-03 00:00:00', '683 10 Street SW', 'Calgary', 'AB', 'Canada', 'T2P 5G3', '+1 (403) 263-4423', '+1 (403) 263-4289', 'margaret@chinookcorp.com'),\n",
       " (5, 'Johnson', 'Steve', 'Sales Support Agent', 2, '1965-03-03 00:00:00', '2017-10-17 00:00:00', '7727B 41 Ave', 'Calgary', 'AB', 'Canada', 'T3B 1Y7', '1 (780) 836-9987', '1 (780) 836-9543', 'steve@chinookcorp.com'),\n",
       " (6, 'Mitchell', 'Michael', 'IT Manager', 1, '1973-07-01 00:00:00', '2016-10-17 00:00:00', '5827 Bowness Road NW', 'Calgary', 'AB', 'Canada', 'T3B 0C5', '+1 (403) 246-9887', '+1 (403) 246-9899', 'michael@chinookcorp.com'),\n",
       " (7, 'King', 'Robert', 'IT Staff', 6, '1970-05-29 00:00:00', '2017-01-02 00:00:00', '590 Columbia Boulevard West', 'Lethbridge', 'AB', 'Canada', 'T1K 5N8', '+1 (403) 456-9986', '+1 (403) 456-8485', 'robert@chinookcorp.com'),\n",
       " (8, 'Callahan', 'Laura', 'IT Staff', 6, '1968-01-09 00:00:00', '2017-03-04 00:00:00', '923 7 ST NW', 'Lethbridge', 'AB', 'Canada', 'T1H 1Y8', '+1 (403) 467-3351', '+1 (403) 467-8772', 'laura@chinookcorp.com')]"
      ]
     },
     "execution_count": 81,
     "metadata": {},
     "output_type": "execute_result"
    }
   ],
   "source": [
    "%%sql\n",
    "select * from employee "
   ]
  },
  {
   "cell_type": "code",
   "execution_count": 66,
   "metadata": {
    "collapsed": false
   },
   "outputs": [
    {
     "name": "stdout",
     "output_type": "stream",
     "text": [
      "Done.\n"
     ]
    },
    {
     "data": {
      "text/html": [
       "<table>\n",
       "    <tr>\n",
       "        <th>Employee</th>\n",
       "        <th>hire_date</th>\n",
       "        <th>Sales</th>\n",
       "    </tr>\n",
       "    <tr>\n",
       "        <td>Johnson Steve</td>\n",
       "        <td>2017-10-17 00:00:00</td>\n",
       "        <td>1393.920000000002</td>\n",
       "    </tr>\n",
       "    <tr>\n",
       "        <td>Park Margaret</td>\n",
       "        <td>2017-05-03 00:00:00</td>\n",
       "        <td>1584.0000000000034</td>\n",
       "    </tr>\n",
       "    <tr>\n",
       "        <td>Peacock Jane</td>\n",
       "        <td>2017-04-01 00:00:00</td>\n",
       "        <td>1731.5100000000039</td>\n",
       "    </tr>\n",
       "</table>"
      ],
      "text/plain": [
       "[('Johnson Steve', '2017-10-17 00:00:00', 1393.920000000002),\n",
       " ('Park Margaret', '2017-05-03 00:00:00', 1584.0000000000034),\n",
       " ('Peacock Jane', '2017-04-01 00:00:00', 1731.5100000000039)]"
      ]
     },
     "execution_count": 66,
     "metadata": {},
     "output_type": "execute_result"
    }
   ],
   "source": [
    "%%sql\n",
    "SELECT e.last_name || \" \" || e.first_name AS Employee, e.hire_date, SUM(i.total) AS \"Sales\"\n",
    "FROM employee e INNER JOIN customer c on e.employee_id = c.support_rep_id\n",
    "                INNER JOIN invoice i on i.customer_id = c.customer_id\n",
    "GROUP BY 1    \n",
    "ORDER BY 2 DESC;"
   ]
  },
  {
   "cell_type": "code",
   "execution_count": 76,
   "metadata": {
    "collapsed": false
   },
   "outputs": [
    {
     "name": "stdout",
     "output_type": "stream",
     "text": [
      "Done.\n"
     ]
    },
    {
     "data": {
      "text/html": [
       "<table>\n",
       "    <tr>\n",
       "        <th>Employee</th>\n",
       "        <th>hire_date</th>\n",
       "        <th>Tenure(months)</th>\n",
       "        <th>Total Sales</th>\n",
       "        <th>Avg Sales/month</th>\n",
       "    </tr>\n",
       "    <tr>\n",
       "        <td>Johnson Steve</td>\n",
       "        <td>2017-10-17 00:00:00</td>\n",
       "        <td>38</td>\n",
       "        <td>1393.920000000002</td>\n",
       "        <td>7.414468085106393</td>\n",
       "    </tr>\n",
       "    <tr>\n",
       "        <td>Park Margaret</td>\n",
       "        <td>2017-05-03 00:00:00</td>\n",
       "        <td>44</td>\n",
       "        <td>1584.0000000000034</td>\n",
       "        <td>7.401869158878521</td>\n",
       "    </tr>\n",
       "    <tr>\n",
       "        <td>Peacock Jane</td>\n",
       "        <td>2017-04-01 00:00:00</td>\n",
       "        <td>45</td>\n",
       "        <td>1731.5100000000039</td>\n",
       "        <td>8.167500000000018</td>\n",
       "    </tr>\n",
       "</table>"
      ],
      "text/plain": [
       "[('Johnson Steve', '2017-10-17 00:00:00', 38, 1393.920000000002, 7.414468085106393),\n",
       " ('Park Margaret', '2017-05-03 00:00:00', 44, 1584.0000000000034, 7.401869158878521),\n",
       " ('Peacock Jane', '2017-04-01 00:00:00', 45, 1731.5100000000039, 8.167500000000018)]"
      ]
     },
     "execution_count": 76,
     "metadata": {},
     "output_type": "execute_result"
    }
   ],
   "source": [
    "%%sql\n",
    "SELECT e.last_name || \" \" || e.first_name AS Employee, e.hire_date, CAST ((julianday('now') - julianday(e.hire_date)) / 30 AS integer) as \"Tenure(months)\", \n",
    "       SUM(i.total) AS \"Total Sales\", AVG(i.total) as \"Avg Sales/month\"\n",
    "FROM employee e INNER JOIN customer c on e.employee_id = c.support_rep_id\n",
    "                INNER JOIN invoice i on i.customer_id = c.customer_id\n",
    "GROUP BY 1    \n",
    "ORDER BY 2 DESC;"
   ]
  },
  {
   "cell_type": "code",
   "execution_count": 97,
   "metadata": {
    "collapsed": false
   },
   "outputs": [
    {
     "name": "stdout",
     "output_type": "stream",
     "text": [
      "Done.\n"
     ]
    },
    {
     "data": {
      "text/html": [
       "<table>\n",
       "    <tr>\n",
       "        <th>Employee</th>\n",
       "        <th>hire_date</th>\n",
       "        <th>Tenure_in_month</th>\n",
       "        <th>Total_Sales</th>\n",
       "        <th>Avg Sales/month</th>\n",
       "    </tr>\n",
       "    <tr>\n",
       "        <td>Jane Peacock</td>\n",
       "        <td>2017-04-01 00:00:00</td>\n",
       "        <td>45</td>\n",
       "        <td>1731.5100000000039</td>\n",
       "        <td>38.47800000000009</td>\n",
       "    </tr>\n",
       "    <tr>\n",
       "        <td>Margaret Park</td>\n",
       "        <td>2017-05-03 00:00:00</td>\n",
       "        <td>44</td>\n",
       "        <td>1584.0000000000034</td>\n",
       "        <td>36.00000000000008</td>\n",
       "    </tr>\n",
       "    <tr>\n",
       "        <td>Steve Johnson</td>\n",
       "        <td>2017-10-17 00:00:00</td>\n",
       "        <td>38</td>\n",
       "        <td>1393.920000000002</td>\n",
       "        <td>36.68210526315794</td>\n",
       "    </tr>\n",
       "</table>"
      ],
      "text/plain": [
       "[('Jane Peacock', '2017-04-01 00:00:00', 45, 1731.5100000000039, 38.47800000000009),\n",
       " ('Margaret Park', '2017-05-03 00:00:00', 44, 1584.0000000000034, 36.00000000000008),\n",
       " ('Steve Johnson', '2017-10-17 00:00:00', 38, 1393.920000000002, 36.68210526315794)]"
      ]
     },
     "execution_count": 97,
     "metadata": {},
     "output_type": "execute_result"
    }
   ],
   "source": [
    "%%sql\n",
    "SELECT e.first_name || \" \" || e.last_name AS Employee, e.hire_date, CAST ((julianday('now') - julianday(e.hire_date)) / 30 AS integer) as \"Tenure_in_month\", \n",
    "       SUM(i.total) AS \"Total_Sales\", SUM(i.total)/CAST ((julianday('now') - julianday(e.hire_date)) / 30 AS integer) as \"Avg Sales/month\"\n",
    "FROM employee e INNER JOIN customer c on e.employee_id = c.support_rep_id\n",
    "                INNER JOIN invoice i on i.customer_id = c.customer_id\n",
    "GROUP BY 1   \n",
    "ORDER BY 4 DESC;"
   ]
  },
  {
   "cell_type": "code",
   "execution_count": 89,
   "metadata": {
    "collapsed": false
   },
   "outputs": [
    {
     "name": "stdout",
     "output_type": "stream",
     "text": [
      "Done.\n"
     ]
    },
    {
     "data": {
      "text/html": [
       "<table>\n",
       "    <tr>\n",
       "        <th>Employee</th>\n",
       "        <th>Total Sales</th>\n",
       "    </tr>\n",
       "    <tr>\n",
       "        <td>Jane Peacock</td>\n",
       "        <td>401.93999999999994</td>\n",
       "    </tr>\n",
       "    <tr>\n",
       "        <td>Steve Johnson</td>\n",
       "        <td>371.25000000000006</td>\n",
       "    </tr>\n",
       "    <tr>\n",
       "        <td>Margaret Park</td>\n",
       "        <td>365.31</td>\n",
       "    </tr>\n",
       "</table>"
      ],
      "text/plain": [
       "[('Jane Peacock', 401.93999999999994),\n",
       " ('Steve Johnson', 371.25000000000006),\n",
       " ('Margaret Park', 365.31)]"
      ]
     },
     "execution_count": 89,
     "metadata": {},
     "output_type": "execute_result"
    }
   ],
   "source": [
    "%%sql\n",
    "SELECT e.first_name || \" \" || e.last_name AS Employee, SUM(i.total) AS \"Total Sales\"\n",
    "FROM employee e INNER JOIN customer c on e.employee_id = c.support_rep_id\n",
    "                INNER JOIN invoice i on i.customer_id = c.customer_id\n",
    "WHERE strftime('%Y',i.invoice_date) = '2020'\n",
    "GROUP BY 1   \n",
    "ORDER BY 2 DESC;"
   ]
  },
  {
   "cell_type": "markdown",
   "metadata": {},
   "source": [
    "While Jane performed the best with sales of \\$1,731 during her tenure, Steve has lowest sales of \\$1,393. However, Steve joined later than Jan so I calculate the monthly sales to have more accurate evaluation. As you see, Jane still generated the most sale but Steve performed slightly better than Margaret. This difference may be due to the sales from year 2020, the next table clearly shows that Steve has higher sale than Margaret."
   ]
  },
  {
   "cell_type": "markdown",
   "metadata": {},
   "source": [
    "## Sales by Country"
   ]
  },
  {
   "cell_type": "markdown",
   "metadata": {},
   "source": [
    "Your next task is to analyze the sales data for customers from each different country."
   ]
  },
  {
   "cell_type": "code",
   "execution_count": 100,
   "metadata": {
    "collapsed": false
   },
   "outputs": [
    {
     "name": "stdout",
     "output_type": "stream",
     "text": [
      "Done.\n"
     ]
    },
    {
     "data": {
      "text/html": [
       "<table>\n",
       "    <tr>\n",
       "        <th>invoice_id</th>\n",
       "        <th>customer_id</th>\n",
       "        <th>invoice_date</th>\n",
       "        <th>billing_address</th>\n",
       "        <th>billing_city</th>\n",
       "        <th>billing_state</th>\n",
       "        <th>billing_country</th>\n",
       "        <th>billing_postal_code</th>\n",
       "        <th>total</th>\n",
       "    </tr>\n",
       "    <tr>\n",
       "        <td>1</td>\n",
       "        <td>18</td>\n",
       "        <td>2017-01-03 00:00:00</td>\n",
       "        <td>627 Broadway</td>\n",
       "        <td>New York</td>\n",
       "        <td>NY</td>\n",
       "        <td>USA</td>\n",
       "        <td>10012-2612</td>\n",
       "        <td>15.84</td>\n",
       "    </tr>\n",
       "    <tr>\n",
       "        <td>2</td>\n",
       "        <td>30</td>\n",
       "        <td>2017-01-03 00:00:00</td>\n",
       "        <td>230 Elgin Street</td>\n",
       "        <td>Ottawa</td>\n",
       "        <td>ON</td>\n",
       "        <td>Canada</td>\n",
       "        <td>K2P 1L7</td>\n",
       "        <td>9.9</td>\n",
       "    </tr>\n",
       "</table>"
      ],
      "text/plain": [
       "[(1, 18, '2017-01-03 00:00:00', '627 Broadway', 'New York', 'NY', 'USA', '10012-2612', 15.84),\n",
       " (2, 30, '2017-01-03 00:00:00', '230 Elgin Street', 'Ottawa', 'ON', 'Canada', 'K2P 1L7', 9.9)]"
      ]
     },
     "execution_count": 100,
     "metadata": {},
     "output_type": "execute_result"
    }
   ],
   "source": [
    "%%sql\n",
    "select * from invoice limit 2"
   ]
  },
  {
   "cell_type": "code",
   "execution_count": 161,
   "metadata": {
    "collapsed": false,
    "scrolled": true
   },
   "outputs": [
    {
     "name": "stdout",
     "output_type": "stream",
     "text": [
      "Done.\n"
     ]
    },
    {
     "data": {
      "text/html": [
       "<table>\n",
       "    <tr>\n",
       "        <th>Country</th>\n",
       "        <th>Total_customer</th>\n",
       "        <th>Total_Sales</th>\n",
       "        <th>Sales_per_customer</th>\n",
       "        <th>avg_order</th>\n",
       "        <th>sort</th>\n",
       "    </tr>\n",
       "    <tr>\n",
       "        <td>USA</td>\n",
       "        <td>13</td>\n",
       "        <td>1040.4899999999998</td>\n",
       "        <td>80.0376923076923</td>\n",
       "        <td>7.942671755725189</td>\n",
       "        <td>0</td>\n",
       "    </tr>\n",
       "    <tr>\n",
       "        <td>Canada</td>\n",
       "        <td>8</td>\n",
       "        <td>535.5900000000001</td>\n",
       "        <td>66.94875000000002</td>\n",
       "        <td>7.047236842105265</td>\n",
       "        <td>0</td>\n",
       "    </tr>\n",
       "    <tr>\n",
       "        <td>Brazil</td>\n",
       "        <td>5</td>\n",
       "        <td>427.68000000000006</td>\n",
       "        <td>85.53600000000002</td>\n",
       "        <td>7.0111475409836075</td>\n",
       "        <td>0</td>\n",
       "    </tr>\n",
       "    <tr>\n",
       "        <td>France</td>\n",
       "        <td>5</td>\n",
       "        <td>389.0699999999999</td>\n",
       "        <td>77.81399999999998</td>\n",
       "        <td>7.781399999999998</td>\n",
       "        <td>0</td>\n",
       "    </tr>\n",
       "    <tr>\n",
       "        <td>Germany</td>\n",
       "        <td>4</td>\n",
       "        <td>334.62</td>\n",
       "        <td>83.655</td>\n",
       "        <td>8.161463414634147</td>\n",
       "        <td>0</td>\n",
       "    </tr>\n",
       "    <tr>\n",
       "        <td>Czech Republic</td>\n",
       "        <td>2</td>\n",
       "        <td>273.24000000000007</td>\n",
       "        <td>136.62000000000003</td>\n",
       "        <td>9.108000000000002</td>\n",
       "        <td>0</td>\n",
       "    </tr>\n",
       "    <tr>\n",
       "        <td>United Kingdom</td>\n",
       "        <td>3</td>\n",
       "        <td>245.52</td>\n",
       "        <td>81.84</td>\n",
       "        <td>8.768571428571429</td>\n",
       "        <td>0</td>\n",
       "    </tr>\n",
       "    <tr>\n",
       "        <td>Portugal</td>\n",
       "        <td>2</td>\n",
       "        <td>185.13000000000002</td>\n",
       "        <td>92.56500000000001</td>\n",
       "        <td>6.383793103448276</td>\n",
       "        <td>0</td>\n",
       "    </tr>\n",
       "    <tr>\n",
       "        <td>India</td>\n",
       "        <td>2</td>\n",
       "        <td>183.14999999999998</td>\n",
       "        <td>91.57499999999999</td>\n",
       "        <td>8.72142857142857</td>\n",
       "        <td>0</td>\n",
       "    </tr>\n",
       "    <tr>\n",
       "        <td>Other</td>\n",
       "        <td>15</td>\n",
       "        <td>1094.9400000000003</td>\n",
       "        <td>72.99600000000002</td>\n",
       "        <td>7.44857142857143</td>\n",
       "        <td>1</td>\n",
       "    </tr>\n",
       "</table>"
      ],
      "text/plain": [
       "[('USA', 13, 1040.4899999999998, 80.0376923076923, 7.942671755725189, 0),\n",
       " ('Canada', 8, 535.5900000000001, 66.94875000000002, 7.047236842105265, 0),\n",
       " ('Brazil', 5, 427.68000000000006, 85.53600000000002, 7.0111475409836075, 0),\n",
       " ('France', 5, 389.0699999999999, 77.81399999999998, 7.781399999999998, 0),\n",
       " ('Germany', 4, 334.62, 83.655, 8.161463414634147, 0),\n",
       " ('Czech Republic', 2, 273.24000000000007, 136.62000000000003, 9.108000000000002, 0),\n",
       " ('United Kingdom', 3, 245.52, 81.84, 8.768571428571429, 0),\n",
       " ('Portugal', 2, 185.13000000000002, 92.56500000000001, 6.383793103448276, 0),\n",
       " ('India', 2, 183.14999999999998, 91.57499999999999, 8.72142857142857, 0),\n",
       " ('Other', 15, 1094.9400000000003, 72.99600000000002, 7.44857142857143, 1)]"
      ]
     },
     "execution_count": 161,
     "metadata": {},
     "output_type": "execute_result"
    }
   ],
   "source": [
    "%%sql\n",
    "WITH country_group AS (\n",
    "SELECT billing_country, count(distinct customer_id) customer_count,\n",
    "     CASE\n",
    "         WHEN count(distinct customer_id) = 1 THEN 'Other'\n",
    "         ELSE billing_country\n",
    "     END as Country\n",
    " FROM invoice\n",
    " GROUP BY billing_country\n",
    " ORDER BY 2 DESC)\n",
    "SELECT cg.Country, count(distinct i.customer_id) \"Total_customer\", SUM(i.total) \"Total_Sales\", \n",
    "        sum(i.total)/count(distinct i.customer_id) \"Sales_per_customer\", sum(i.total)/count(distinct i.invoice_id) \"avg_order\",\n",
    "        CASE\n",
    "            WHEN cg.Country = \"Other\" THEN 1\n",
    "            ELSE 0\n",
    "        END AS sort\n",
    "FROM invoice i INNER JOIN customer c ON i.customer_id = c.customer_id\n",
    "               INNER JOIN country_group cg on i.billing_country = cg.billing_country\n",
    "Group by 1\n",
    "Order by sort, Total_Sales desc;"
   ]
  },
  {
   "cell_type": "markdown",
   "metadata": {},
   "source": [
    "While the store has attracted most customers from USA and Canada, there is a growth opportunity in these countries:\n",
    "- Czech Republic\n",
    "- United Kingdom\n",
    "- India\n",
    "However, because the sample size is really low, we should do market reasearch before investing marketing campaign to those areas. "
   ]
  },
  {
   "cell_type": "markdown",
   "metadata": {},
   "source": [
    "## Albums vs Individual Tracks"
   ]
  },
  {
   "cell_type": "markdown",
   "metadata": {},
   "source": [
    "Management are currently considering changing their purchasing strategy to save money. They have two options as follow:\n",
    "- purchase a whole album\n",
    "- purchase a collection of one or more individual tracks\n",
    "\n",
    "We have been asked to find out what percentage of purchases are individual tracks vs whole albums, so that management can use this data to understand the effect this decision might have on overall revenue."
   ]
  },
  {
   "cell_type": "code",
   "execution_count": 162,
   "metadata": {
    "collapsed": false
   },
   "outputs": [
    {
     "name": "stdout",
     "output_type": "stream",
     "text": [
      "Done.\n"
     ]
    },
    {
     "data": {
      "text/html": [
       "<table>\n",
       "    <tr>\n",
       "        <th>album_id</th>\n",
       "        <th>title</th>\n",
       "        <th>artist_id</th>\n",
       "    </tr>\n",
       "    <tr>\n",
       "        <td>1</td>\n",
       "        <td>For Those About To Rock We Salute You</td>\n",
       "        <td>1</td>\n",
       "    </tr>\n",
       "    <tr>\n",
       "        <td>2</td>\n",
       "        <td>Balls to the Wall</td>\n",
       "        <td>2</td>\n",
       "    </tr>\n",
       "</table>"
      ],
      "text/plain": [
       "[(1, 'For Those About To Rock We Salute You', 1), (2, 'Balls to the Wall', 2)]"
      ]
     },
     "execution_count": 162,
     "metadata": {},
     "output_type": "execute_result"
    }
   ],
   "source": [
    "%%sql\n",
    "select *\n",
    "from album\n",
    "limit 2"
   ]
  },
  {
   "cell_type": "code",
   "execution_count": 167,
   "metadata": {
    "collapsed": false
   },
   "outputs": [
    {
     "name": "stdout",
     "output_type": "stream",
     "text": [
      "Done.\n"
     ]
    },
    {
     "data": {
      "text/html": [
       "<table>\n",
       "    <tr>\n",
       "        <th>invoice_id</th>\n",
       "        <th>customer_id</th>\n",
       "        <th>invoice_date</th>\n",
       "        <th>billing_address</th>\n",
       "        <th>billing_city</th>\n",
       "        <th>billing_state</th>\n",
       "        <th>billing_country</th>\n",
       "        <th>billing_postal_code</th>\n",
       "        <th>total</th>\n",
       "    </tr>\n",
       "    <tr>\n",
       "        <td>1</td>\n",
       "        <td>18</td>\n",
       "        <td>2017-01-03 00:00:00</td>\n",
       "        <td>627 Broadway</td>\n",
       "        <td>New York</td>\n",
       "        <td>NY</td>\n",
       "        <td>USA</td>\n",
       "        <td>10012-2612</td>\n",
       "        <td>15.84</td>\n",
       "    </tr>\n",
       "    <tr>\n",
       "        <td>2</td>\n",
       "        <td>30</td>\n",
       "        <td>2017-01-03 00:00:00</td>\n",
       "        <td>230 Elgin Street</td>\n",
       "        <td>Ottawa</td>\n",
       "        <td>ON</td>\n",
       "        <td>Canada</td>\n",
       "        <td>K2P 1L7</td>\n",
       "        <td>9.9</td>\n",
       "    </tr>\n",
       "</table>"
      ],
      "text/plain": [
       "[(1, 18, '2017-01-03 00:00:00', '627 Broadway', 'New York', 'NY', 'USA', '10012-2612', 15.84),\n",
       " (2, 30, '2017-01-03 00:00:00', '230 Elgin Street', 'Ottawa', 'ON', 'Canada', 'K2P 1L7', 9.9)]"
      ]
     },
     "execution_count": 167,
     "metadata": {},
     "output_type": "execute_result"
    }
   ],
   "source": [
    "%%sql\n",
    "select *\n",
    "from invoice\n",
    "limit 2"
   ]
  },
  {
   "cell_type": "code",
   "execution_count": 195,
   "metadata": {
    "collapsed": false
   },
   "outputs": [
    {
     "name": "stdout",
     "output_type": "stream",
     "text": [
      "Done.\n"
     ]
    },
    {
     "data": {
      "text/html": [
       "<table>\n",
       "    <tr>\n",
       "        <th>invoice_line_id</th>\n",
       "        <th>invoice_id</th>\n",
       "        <th>track_id</th>\n",
       "        <th>unit_price</th>\n",
       "        <th>quantity</th>\n",
       "    </tr>\n",
       "    <tr>\n",
       "        <td>1</td>\n",
       "        <td>1</td>\n",
       "        <td>1158</td>\n",
       "        <td>0.99</td>\n",
       "        <td>1</td>\n",
       "    </tr>\n",
       "    <tr>\n",
       "        <td>2</td>\n",
       "        <td>1</td>\n",
       "        <td>1159</td>\n",
       "        <td>0.99</td>\n",
       "        <td>1</td>\n",
       "    </tr>\n",
       "</table>"
      ],
      "text/plain": [
       "[(1, 1, 1158, 0.99, 1), (2, 1, 1159, 0.99, 1)]"
      ]
     },
     "execution_count": 195,
     "metadata": {},
     "output_type": "execute_result"
    }
   ],
   "source": [
    "%%sql\n",
    "select *\n",
    "from invoice_line\n",
    "limit 2"
   ]
  },
  {
   "cell_type": "code",
   "execution_count": 166,
   "metadata": {
    "collapsed": false
   },
   "outputs": [
    {
     "name": "stdout",
     "output_type": "stream",
     "text": [
      "Done.\n"
     ]
    },
    {
     "data": {
      "text/html": [
       "<table>\n",
       "    <tr>\n",
       "        <th>track_id</th>\n",
       "        <th>album_id</th>\n",
       "    </tr>\n",
       "    <tr>\n",
       "        <td>1</td>\n",
       "        <td>1</td>\n",
       "    </tr>\n",
       "    <tr>\n",
       "        <td>6</td>\n",
       "        <td>1</td>\n",
       "    </tr>\n",
       "</table>"
      ],
      "text/plain": [
       "[(1, 1), (6, 1)]"
      ]
     },
     "execution_count": 166,
     "metadata": {},
     "output_type": "execute_result"
    }
   ],
   "source": [
    "%%sql\n",
    "select track_id, album_id\n",
    "from track\n",
    "limit 2"
   ]
  },
  {
   "cell_type": "code",
   "execution_count": 202,
   "metadata": {
    "collapsed": false
   },
   "outputs": [
    {
     "name": "stdout",
     "output_type": "stream",
     "text": [
      "Done.\n"
     ]
    },
    {
     "data": {
      "text/html": [
       "<table>\n",
       "    <tr>\n",
       "        <th>Same_album</th>\n",
       "        <th>total_invoices</th>\n",
       "        <th>percent</th>\n",
       "    </tr>\n",
       "    <tr>\n",
       "        <td>No</td>\n",
       "        <td>443</td>\n",
       "        <td>0.7214983713355049</td>\n",
       "    </tr>\n",
       "    <tr>\n",
       "        <td>Yes</td>\n",
       "        <td>171</td>\n",
       "        <td>0.2785016286644951</td>\n",
       "    </tr>\n",
       "</table>"
      ],
      "text/plain": [
       "[('No', 443, 0.7214983713355049), ('Yes', 171, 0.2785016286644951)]"
      ]
     },
     "execution_count": 202,
     "metadata": {},
     "output_type": "execute_result"
    }
   ],
   "source": [
    "%%sql\n",
    "WITH invoice_album AS(\n",
    "SELECT i.invoice_id, album_id\n",
    "FROM invoice_line i INNER JOIN track t on i.track_id = t.track_id\n",
    "GROUP BY invoice_id, album_id)\n",
    "SELECT Same_album, count(invoice_id) \"total_invoices\", CAST(count(invoice_id) AS FLOAT)/(SELECT count(*) FROM invoice) \"percent\"\n",
    "FROM (SELECT invoice_id, count(distinct album_id) 'total_album', CASE\n",
    "        WHEN count(distinct album_id) = 1 THEN 'Yes'\n",
    "        ELSE 'No'\n",
    "        END as 'Same_album'\n",
    "FROM invoice_album\n",
    "GROUP BY invoice_id)\n",
    "GROUP BY 1"
   ]
  },
  {
   "cell_type": "markdown",
   "metadata": {},
   "source": [
    "Based on the analysis, while 72% of customers prefer to buy tracks from multiple albums, only 28% of them purchase whole album at once. Therefore, I would recommend not continue to buy full albums from record companies."
   ]
  },
  {
   "cell_type": "code",
   "execution_count": null,
   "metadata": {
    "collapsed": true
   },
   "outputs": [],
   "source": []
  }
 ],
 "metadata": {
  "kernelspec": {
   "display_name": "Python 3",
   "language": "python",
   "name": "python3"
  },
  "language_info": {
   "codemirror_mode": {
    "name": "ipython",
    "version": 3
   },
   "file_extension": ".py",
   "mimetype": "text/x-python",
   "name": "python",
   "nbconvert_exporter": "python",
   "pygments_lexer": "ipython3",
   "version": "3.4.3"
  }
 },
 "nbformat": 4,
 "nbformat_minor": 2
}
